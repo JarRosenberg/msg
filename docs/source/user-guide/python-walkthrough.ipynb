{
 "cells": [
  {
   "cell_type": "raw",
   "id": "eaf29ef7",
   "metadata": {
    "raw_mimetype": "text/restructuredtext"
   },
   "source": [
    ".. _python-wallthrough:\n",
    "\n",
    "******************\n",
    "Python Walkthrough\n",
    "******************\n",
    "\n",
    "This chapter provides a walkthrough of using the MSG Python interface\n",
    "to evaluate flux and intensity spectra for a model of Sirius\n",
    "(:math:`\\alpha` Canis Majoris). The code fragments are presented as a\n",
    "sequence of Jupyter notebook cells, but pasting all of the fragments\n",
    "into a Python script should work also.\n",
    "\n",
    ".. _python-walkthrough-prep:\n",
    "\n",
    "Preparation\n",
    "===========\n",
    "\n",
    "Before starting Jupyter, ensure that recent versions of the `NumPy\n",
    "<https://numpy.org/>`__, `Matplotlib <https://matplotlib.org/>`__ and\n",
    "`Astropy <https://www.astropy.org/>`__ packages are installed on your\n",
    "system. Also, make sure that the :envvar:`MSG_DIR` environment\n",
    "variable is set as described in the :ref:`quick-start` chapter.\n",
    "\n",
    "Importing the PyMSG Module\n",
    "==========================\n",
    "\n",
    "Launch Jupyter, create a new Python3 notebook, and paste the following\n",
    "statements into the first cell:"
   ]
  },
  {
   "cell_type": "code",
   "execution_count": null,
   "id": "2eb4244c",
   "metadata": {},
   "outputs": [],
   "source": [
    "# Import standard modules\n",
    "\n",
    "import sys\n",
    "import os\n",
    "import numpy as np\n",
    "import astropy.constants as con\n",
    "import matplotlib.pyplot as plt\n",
    "\n",
    "# Set paths & import pymsg\n",
    "\n",
    "MSG_DIR = os.environ['MSG_DIR']\n",
    "\n",
    "sys.path.insert(0, os.path.join(MSG_DIR, 'python'))\n",
    "import pymsg\n",
    "\n",
    "# Set plot parameters\n",
    "\n",
    "%matplotlib inline\n",
    "plt.rcParams.update({'font.size': 16})"
   ]
  },
  {
   "cell_type": "raw",
   "id": "5b4d9d5f",
   "metadata": {
    "raw_mimetype": "text/restructuredtext"
   },
   "source": [
    "The `sys.path.insert` statement adds the directory\n",
    ":file:`$MSG_DIR/lib` to the search path, allowing Python to find and\n",
    "import the :py:mod:`pymsg` module. This module provides the Python\n",
    "interface to MSG.\n",
    "\n",
    "Loading & Inspecting the Demo Grid\n",
    "==================================\n",
    "\n",
    "For demonstration purposes MSG includes a low resolution specgral\n",
    "grid, stored in the file :file:`$MSG_DIR/data/grids/sg-demo.h5`\n",
    "[#grids]_. Load this demo grid into memory [#memory]_.  by creating a\n",
    "new :py:class:`pymsg.SpecGrid` object:"
   ]
  },
  {
   "cell_type": "code",
   "execution_count": null,
   "id": "88947edc",
   "metadata": {},
   "outputs": [],
   "source": [
    "# Load the SpecGrid\n",
    "\n",
    "GRID_DIR = os.path.join(MSG_DIR, 'data', 'grids')\n",
    "\n",
    "specgrid_file_name = os.path.join(GRID_DIR, 'sg-demo.h5')\n",
    "\n",
    "specgrid = pymsg.SpecGrid(specgrid_file_name)"
   ]
  },
  {
   "cell_type": "raw",
   "id": "556f2bd2",
   "metadata": {
    "raw_mimetype": "text/restructuredtext"
   },
   "source": [
    "This object has a number of (read-only) properties that tell us about\n",
    "the parameter space spanned by the grid:"
   ]
  },
  {
   "cell_type": "code",
   "execution_count": null,
   "id": "b4d6d202",
   "metadata": {},
   "outputs": [],
   "source": [
    "# Inspect grid parameters\n",
    "\n",
    "print('Grid parameters:')\n",
    "\n",
    "for label in specgrid.axis_labels:\n",
    "    print(f'  {label} ({specgrid.axis_min[label]} -> {specgrid.axis_max[label]})')\n",
    "\n",
    "print(f'  lam ({specgrid.lam_min} -> {specgrid.lam_max})')"
   ]
  },
  {
   "cell_type": "raw",
   "id": "796adf25",
   "metadata": {
    "raw_mimetype": "text/restructuredtext"
   },
   "source": [
    "Here, ``logT`` and ``logg`` correspond (respectively) to the\n",
    ":math:`\\log_{10}(\\Teff/\\kelvin)` and\n",
    ":math:`\\log_{10}(g/\\cm\\,\\second^{-2})` atmosphere parameters, while\n",
    "``lam`` is wavelength :math:`\\lambda/\\angstrom`.\n",
    "\n",
    "Plotting the Flux\n",
    "=================\n",
    "\n",
    "With the grid loaded, let's evaluate and plot a flux spectrum for\n",
    "Sirius. First, store atmosphere parameters for the star in a dict:"
   ]
  },
  {
   "cell_type": "code",
   "execution_count": null,
   "id": "6f8b6aba",
   "metadata": {},
   "outputs": [],
   "source": [
    "# Set atmosphere parameters dict\n",
    "\n",
    "x = {'logT': np.log10(9940.), 'logg': 4.33}"
   ]
  },
  {
   "cell_type": "raw",
   "id": "ebb2bf63",
   "metadata": {
    "raw_mimetype": "text/restructuredtext"
   },
   "source": [
    "(these data are taken from `Wikipedia's` :wiki:`Sirius` entry). Then\n",
    "set up a wavelength abcissa for a spectrum spanning the visible range,\n",
    ":math:`3,000\\,\\angstrom` to :math:`7,000\\,\\angstrom`."
   ]
  },
  {
   "cell_type": "code",
   "execution_count": null,
   "id": "273ccc70",
   "metadata": {},
   "outputs": [],
   "source": [
    "# Set up the wavelength abscissa\n",
    "\n",
    "lam_min = 3000.\n",
    "lam_max = 7000.\n",
    "\n",
    "lam = np.linspace(lam_min, lam_max, 501)\n",
    "\n",
    "lam_c = 0.5*(lam[1:] + lam[:-1])"
   ]
  },
  {
   "cell_type": "raw",
   "id": "e47705fd",
   "metadata": {
    "raw_mimetype": "text/restructuredtext"
   },
   "source": [
    "Here, the array ``lam`` defines the boundaries of 500 wavelength bins\n",
    ":math:`\\{\\lambda_{i},\\lambda_{i+1}\\}` (:math:`i=1,\\ldots,500`) and the\n",
    "array ``lam_c`` stores the central wavelength of each bin.\n",
    "\n",
    "With all our parameters defined, evaluate the flux spectrum using a\n",
    "call to the :py:meth:`pymsg.SpecGrid.flux` method, and then plot it:"
   ]
  },
  {
   "cell_type": "code",
   "execution_count": null,
   "id": "98437c97",
   "metadata": {},
   "outputs": [],
   "source": [
    "# Evaluate the flux\n",
    "\n",
    "F_lam = specgrid.flux(x, lam)\n",
    "\n",
    "# Plot\n",
    "\n",
    "plt.figure(figsize=[8,8])\n",
    "plt.plot(lam_c, F_lam)\n",
    "\n",
    "plt.xlabel(r'$\\lambda ({\\AA})$')\n",
    "plt.ylabel(r'$F_{\\lambda}\\ ({\\rm erg\\,cm^{-2}\\,s^{-1}}\\,\\AA^{-1})$')"
   ]
  },
  {
   "cell_type": "raw",
   "id": "19c11a46",
   "metadata": {
    "raw_mimetype": "text/restructuredtext"
   },
   "source": [
    "This looks about right --- we can clearly see the Balmer series,\n",
    "starting with H\\ :math:`\\alpha` at :math:`6563\\,\\angstrom`.\n",
    "\n",
    "Plotting the Intensity\n",
    "======================\n",
    "\n",
    "Sometimes we want to know the specific intensity of the radiation\n",
    "emerging from a star's atmosphere; an example might be when we're\n",
    "modeling eclipse or transit phenomena, which requires detailed\n",
    "knowlege of the stellar-surface radiation field. For this, we can use\n",
    "the :py:meth:`pymsg.SpecGrid.intensity` method.\n",
    "\n",
    "Here's a demonstration of this method in action, plotting the specific\n",
    "intensity across the H\\ :math:`\\alpha` line profile for ten different\n",
    "values of the cosine :math:`\\mu=0.1,0.2,\\ldots,1.0` of the emergence\n",
    "angle (relative to the surface normal):"
   ]
  },
  {
   "cell_type": "code",
   "execution_count": null,
   "id": "4cf4572a",
   "metadata": {},
   "outputs": [],
   "source": [
    "# Set up the wavelength abscissa\n",
    "\n",
    "lam_min = 6300.\n",
    "lam_max = 6800.\n",
    "\n",
    "lam = np.linspace(lam_min, lam_max, 100)\n",
    "\n",
    "lam_c = 0.5*(lam[1:] + lam[:-1])\n",
    "\n",
    "# Loop over mu\n",
    "\n",
    "plt.figure(figsize=[8,8])\n",
    "\n",
    "for mu in np.linspace(1.0, 0.1, 10):\n",
    "\n",
    "    # Evaluate the intensity\n",
    "\n",
    "    I_lam = specgrid.intensity(x, mu, lam)\n",
    "\n",
    "    # Plot\n",
    "\n",
    "    if mu==0.1 or mu==1.0:\n",
    "        label=r'$\\mu={:3.1f}$'.format(mu)\n",
    "    else:\n",
    "        label=None\n",
    "\n",
    "    plt.plot(lam_c, I_lam, label=label)\n",
    "\n",
    "plt.xlabel(r'$\\lambda ({\\AA})$')\n",
    "plt.ylabel(r'$I_{\\lambda}\\ ({\\rm erg\\,cm^{-2}\\,s^{-1}}\\,\\AA^{-1}\\,srad^{-1})$')\n",
    "\n",
    "plt.legend()"
   ]
  },
  {
   "cell_type": "raw",
   "id": "6a518cfb",
   "metadata": {
    "raw_mimetype": "text/restructuredtext"
   },
   "source": [
    "We can clearly see that limb-darkening in the line core is much weaker\n",
    "than in the continuum --- exactly what we expect from such a strong\n",
    "line.\n",
    "\n",
    "Evaluating Magnitudes & Colors\n",
    "==============================\n",
    "\n",
    "As a final step in this walkthrough, let's evaluate the magnitude and\n",
    "colors of Sirius in the Johnson system. We can do this by creating a\n",
    "new :py:class:`pymsg.PhotGrid` object for each passband:"
   ]
  },
  {
   "cell_type": "code",
   "execution_count": null,
   "id": "46efce2f",
   "metadata": {},
   "outputs": [],
   "source": [
    "# Load the PhotGrids\n",
    "\n",
    "PASS_DIR = os.path.join(MSG_DIR, 'data', 'passbands')\n",
    "filters = ['U', 'B', 'V']\n",
    "\n",
    "photgrids = {}\n",
    "\n",
    "for filter in filters:\n",
    "    passband_file_name = os.path.join(PASS_DIR, f'pb-Generic-Johnson.{filter}-Vega.h5')\n",
    "    photgrids[filter] = pymsg.PhotGrid(specgrid_file_name, passband_file_name)"
   ]
  },
  {
   "cell_type": "raw",
   "id": "3d0680d8",
   "metadata": {
    "raw_mimetype": "text/restructuredtext"
   },
   "source": [
    "(for convenience, we store the :py:class:`pymsg.PhotGrid` objects in a\n",
    "dict, keyed by filter name).  In the calls to the object constructor\n",
    ":py:meth:`pymsg.PhotGrid`, the first argument is the name of a\n",
    "spectral grid (i.e., the demo grid), and the second argument is the\n",
    "name of a passband definition file; a limited set of these files is\n",
    "provided in the :file:`$MSG_DIR/data/passbands` subdirectory\n",
    "[_passbands]. The normalized *surface* fluxes of Sirius are then be\n",
    "found using the :py:meth:`pymsg.PhotGrid.flux` method:"
   ]
  },
  {
   "cell_type": "code",
   "execution_count": null,
   "id": "51c4d152",
   "metadata": {},
   "outputs": [],
   "source": [
    "# Evaluate the surface fluxes (each normalized to the passband\n",
    "# zero-point flux)\n",
    "\n",
    "F_surf = {}\n",
    "\n",
    "for filter in filters:\n",
    "    F_surf[filter] = photgrids[filter].flux(x)"
   ]
  },
  {
   "cell_type": "raw",
   "id": "ac6a863b",
   "metadata": {
    "raw_mimetype": "text/restructuredtext"
   },
   "source": [
    "To convert these into apparent magnitudes, we first dilute them to\n",
    "Earth fluxes using the inverse-square law, and then apply\n",
    ":wiki:`Pogson's <N._R._Pogson>` logarithmic formula:"
   ]
  },
  {
   "cell_type": "code",
   "execution_count": null,
   "id": "28ed8101",
   "metadata": {},
   "outputs": [],
   "source": [
    "# Set the radius and distance to Sirius\n",
    "\n",
    "R = 1.711 * con.R_sun\n",
    "d = 2.670 * con.pc\n",
    "\n",
    "# Evaluate the Earth fluxes\n",
    "\n",
    "F = {}\n",
    "\n",
    "for filter in filters:\n",
    "    F[filter] = F_surf[filter]*R**2/d**2\n",
    "\n",
    "# Evaluate apparent magnitudes and print out magnitude & color\n",
    "\n",
    "mags = {}\n",
    "\n",
    "for filter in filters:\n",
    "    mags[filter] = -2.5*np.log10(F[filter])\n",
    "\n",
    "print(f\"V={mags['V']}, U-B={mags['U']-mags['B']}, B-V={mags['B']-mags['V']}\")   "
   ]
  },
  {
   "cell_type": "raw",
   "id": "0c3c147e",
   "metadata": {
    "raw_mimetype": "text/restructuredtext"
   },
   "source": [
    "Reassuringly, the resulting values are within 10 mmag of Sirius'\n",
    "apparent magnitude and color (again, as given by the Wikipedia entry).\n",
    "\n",
    ".. rubric:: Footnotes\n",
    "\n",
    ".. [#grids] Larger grids can be downloaded separately from MSG; see\n",
    "            the :ref:`spectral-grids` appendix.\n",
    "\t    \n",
    ".. [#passbands] Passband definition files for other\n",
    "                instruments/photometric systems can be downloaded\n",
    "                separately from MSG; see the :ref:`passband-files`\n",
    "                appendix.\n",
    "\t    \n",
    ".. [#memory] Behind the scenes, the grid data is loaded on demand; see\n",
    "             XXX for further details."
   ]
  }
 ],
 "metadata": {
  "celltoolbar": "Raw Cell Format",
  "kernelspec": {
   "display_name": "Python 3",
   "language": "python",
   "name": "python3"
  },
  "language_info": {
   "codemirror_mode": {
    "name": "ipython",
    "version": 3
   },
   "file_extension": ".py",
   "mimetype": "text/x-python",
   "name": "python",
   "nbconvert_exporter": "python",
   "pygments_lexer": "ipython3",
   "version": "3.8.8"
  }
 },
 "nbformat": 4,
 "nbformat_minor": 5
}
