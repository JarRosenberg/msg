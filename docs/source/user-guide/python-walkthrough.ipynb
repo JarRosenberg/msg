{
 "cells": [
  {
   "cell_type": "code",
   "execution_count": 1,
   "id": "2eb4244c",
   "metadata": {},
   "outputs": [],
   "source": [
    "# Import pymsg\n",
    "\n",
    "import sys\n",
    "import os\n",
    "sys.path.insert(0, os.path.join(os.environ['MSG_DIR'], 'python'))\n",
    "import pymsg\n",
    "from scipy.constants import c, Planck\n",
    "\n",
    "# Import standard modules and configure them\n",
    "\n",
    "import numpy as np\n",
    "import matplotlib.pyplot as plt\n",
    "\n",
    "%matplotlib inline\n",
    "plt.rcParams.update({'font.size': 16})"
   ]
  },
  {
   "cell_type": "code",
   "execution_count": null,
   "id": "88947edc",
   "metadata": {},
   "outputs": [],
   "source": [
    "# Load the SpecGrid\n",
    "\n",
    "specgrid = pymsg.SpecGrid('sg-demo.h5')"
   ]
  },
  {
   "cell_type": "code",
   "execution_count": null,
   "id": "1726e319",
   "metadata": {},
   "outputs": [],
   "source": [
    "# Inspect grid parameters\n",
    "\n",
    "print('Grid parameters:')\n",
    "\n",
    "for label in specgrid.axis_labels:\n",
    "   print(f'  {label} ({specgrid.axis_min[label]} -> {specgrid.axis_max[label]})')\n",
    "\n",
    "print(f'  lam ({specgrid.cache_lam_min} -> {specgrid.cache_lam_max})')"
   ]
  },
  {
   "cell_type": "code",
   "execution_count": null,
   "id": "7bb52e5c",
   "metadata": {},
   "outputs": [],
   "source": [
    "# Display cache values\n",
    "\n",
    "print(specgrid.cache_count)\n",
    "print(specgrid.cache_limit)\n",
    "print(specgrid.cache_lam_min)\n",
    "print(specgrid.cache_lam_max)\n",
    "print(specgrid.lam_min)\n",
    "print(specgrid.lam_max)\n",
    "\n",
    "specgrid.cache_lam_min = 3000\n",
    "specgrid.cache_lam_max = 7000\n",
    "\n",
    "print(specgrid.cache_lam_min)\n",
    "print(specgrid.cache_lam_max)"
   ]
  },
  {
   "cell_type": "code",
   "execution_count": null,
   "id": "b4d6d202",
   "metadata": {},
   "outputs": [],
   "source": [
    "# Set atmosphere parameters dict\n",
    "\n",
    "x = {'logT': np.log10(9940.), 'logg': 4.33}"
   ]
  },
  {
   "cell_type": "code",
   "execution_count": null,
   "id": "273ccc70",
   "metadata": {},
   "outputs": [],
   "source": [
    "# Set up the wavelength abscissa\n",
    "\n",
    "lam_min = 3000.\n",
    "lam_max = 7000.\n",
    "\n",
    "lam = np.linspace(lam_min, lam_max, 501)\n",
    "\n",
    "lam_c = 0.5*(lam[1:] + lam[:-1])"
   ]
  },
  {
   "cell_type": "code",
   "execution_count": null,
   "id": "98437c97",
   "metadata": {},
   "outputs": [],
   "source": [
    "# Evaluate the flux\n",
    "\n",
    "F_lam = specgrid.flux(x, lam)\n",
    "\n",
    "# Plot\n",
    "\n",
    "plt.figure(figsize=[8,8])\n",
    "plt.plot(lam_c, F_lam)\n",
    "\n",
    "plt.xlabel(r'$\\lambda ({\\AA})$')\n",
    "plt.ylabel(r'$F_{\\lambda}\\ ({\\rm erg\\,cm^{-2}\\,s^{-1}}\\,\\AA^{-1})$')"
   ]
  },
  {
   "cell_type": "code",
   "execution_count": null,
   "id": "e636f2f5",
   "metadata": {},
   "outputs": [],
   "source": [
    "# Display cache values\n",
    "\n",
    "print(specgrid.cache_count)\n",
    "print(specgrid.cache_limit)"
   ]
  },
  {
   "cell_type": "code",
   "execution_count": null,
   "id": "4cf4572a",
   "metadata": {},
   "outputs": [],
   "source": [
    "# Set up the wavelength abscissa\n",
    "\n",
    "lam_min = 6300.\n",
    "lam_max = 6800.\n",
    "\n",
    "lam = np.linspace(lam_min, lam_max, 100)\n",
    "\n",
    "lam_c = 0.5*(lam[1:] + lam[:-1])\n",
    "\n",
    "# Loop over mu\n",
    "\n",
    "plt.figure(figsize=[8,8])\n",
    "\n",
    "for mu in np.linspace(1.0, 0.1, 10):\n",
    "\n",
    "    # Evaluate the intensity\n",
    "\n",
    "    I_lam = specgrid.intensity(x, mu, lam)\n",
    "\n",
    "    # Plot\n",
    "\n",
    "    if mu==0.1 or mu==1.0:\n",
    "        label=r'$\\mu={:3.1f}$'.format(mu)\n",
    "    else:\n",
    "        label=None\n",
    "\n",
    "    plt.plot(lam_c, I_lam, label=label)\n",
    "\n",
    "plt.xlabel(r'$\\lambda ({\\AA})$')\n",
    "plt.ylabel(r'$I_{\\lambda}\\ ({\\rm erg\\,cm^{-2}\\,s^{-1}}\\,\\AA^{-1}\\,srad^{-1})$')\n",
    "\n",
    "plt.legend()"
   ]
  },
  {
   "cell_type": "code",
   "execution_count": null,
   "id": "46efce2f",
   "metadata": {},
   "outputs": [],
   "source": [
    "# Set up the photgrids\n",
    "\n",
    "photgrid_U = pymsg.PhotGrid('sg-demo.h5', 'pb-Generic-Johnson.U-Vega.h5')\n",
    "photgrid_B = pymsg.PhotGrid('sg-demo.h5', 'pb-Generic-Johnson.B-Vega.h5')\n",
    "photgrid_V = pymsg.PhotGrid('sg-demo.h5', 'pb-Generic-Johnson.V-Vega.h5')\n",
    "\n",
    "# Set up the radius and distance\n",
    "\n",
    "R = 1.711 * 6.955E10\n",
    "d = 2.670 * 3.0857E18\n",
    "\n",
    "U = -2.5*np.log10(photgrid_U.flux(x)*R**2/d**2)\n",
    "B = -2.5*np.log10(photgrid_B.flux(x)*R**2/d**2)\n",
    "V = -2.5*np.log10(photgrid_V.flux(x)*R**2/d**2)\n",
    "\n",
    "print(f'V={V}, U-B={U-B}, B-V={B-V}')"
   ]
  },
  {
   "cell_type": "code",
   "execution_count": null,
   "id": "4af5de72",
   "metadata": {},
   "outputs": [],
   "source": [
    "# Vega calibration\n",
    "\n",
    "# Set atmosphere parameters dict\n",
    "\n",
    "dx = {'logT': np.log10(9602), 'logg': 4.1}\n",
    "\n",
    "lam_min = 3000\n",
    "lam_max = 7000\n",
    " \n",
    "lam = lam = np.linspace(lam_min, lam_max, 501)\n",
    "lam_c = 0.5*(lam[1:] + lam[:-1])\n",
    "\n",
    "# Set up the radius and distance\n",
    "\n",
    "R = 2.362 * 6.955E10\n",
    "d = 7.68 * 3.0857E18\n",
    "\n",
    "# Eval flux\n",
    "\n",
    "F_lam = specgrid.flux(dx, lam)*(R/d)**2\n",
    "nu = (c*1E2)/(lam_c*1E-8)\n",
    "F_phot = F_lam/(Planck*1E7*nu)\n",
    "\n",
    "# Plot\n",
    "\n",
    "plt.figure(figsize=[8,8])\n",
    "#plt.plot(lam_c, F_lam)\n",
    "plt.plot(lam_c, F_phot)\n",
    "\n",
    "\n",
    "plt.xlabel(r'$\\lambda ({\\AA})$')\n",
    "plt.ylabel(r'$F_{\\lambda}\\ (photon\\,cm^{-2}\\,s^{-1}}\\,\\AA^{-1})$')"
   ]
  },
  {
   "cell_type": "code",
   "execution_count": null,
   "id": "461f0597",
   "metadata": {},
   "outputs": [],
   "source": []
  },
  {
   "cell_type": "code",
   "execution_count": null,
   "id": "3b50f598",
   "metadata": {},
   "outputs": [],
   "source": []
  },
  {
   "cell_type": "code",
   "execution_count": null,
   "id": "42fa9ec4",
   "metadata": {},
   "outputs": [],
   "source": []
  },
  {
   "cell_type": "code",
   "execution_count": null,
   "id": "a0dfc0e2",
   "metadata": {},
   "outputs": [],
   "source": []
  }
 ],
 "metadata": {
  "kernelspec": {
   "display_name": "Python 3",
   "language": "python",
   "name": "python3"
  },
  "language_info": {
   "codemirror_mode": {
    "name": "ipython",
    "version": 3
   },
   "file_extension": ".py",
   "mimetype": "text/x-python",
   "name": "python",
   "nbconvert_exporter": "python",
   "pygments_lexer": "ipython3",
   "version": "3.8.8"
  }
 },
 "nbformat": 4,
 "nbformat_minor": 5
}
